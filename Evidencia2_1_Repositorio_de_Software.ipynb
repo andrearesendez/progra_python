{
  "nbformat": 4,
  "nbformat_minor": 0,
  "metadata": {
    "colab": {
      "provenance": [],
      "authorship_tag": "ABX9TyMMfXMs7ZCAoy+S0D4XlsfF",
      "include_colab_link": true
    },
    "kernelspec": {
      "name": "python3",
      "display_name": "Python 3"
    },
    "language_info": {
      "name": "python"
    }
  },
  "cells": [
    {
      "cell_type": "markdown",
      "metadata": {
        "id": "view-in-github",
        "colab_type": "text"
      },
      "source": [
        "<a href=\"https://colab.research.google.com/github/andrearesendez/progra_python/blob/main/Evidencia2_1_Repositorio_de_Software.ipynb\" target=\"_parent\"><img src=\"https://colab.research.google.com/assets/colab-badge.svg\" alt=\"Open In Colab\"/></a>"
      ]
    },
    {
      "cell_type": "markdown",
      "source": [
        "### **Definir una clase que contenga:**\n",
        "\n",
        "1. Atributos\n",
        "1. Propiedades\n",
        "1. Métodos\n",
        "1. Método Cosntructor\n",
        "\n",
        "Incluir explicaciones de que hace la clase y demostrar su uso."
      ],
      "metadata": {
        "id": "OgW0r51hSSJ2"
      }
    },
    {
      "cell_type": "code",
      "execution_count": 27,
      "metadata": {
        "colab": {
          "base_uri": "https://localhost:8080/"
        },
        "id": "AwLEORSDSCUW",
        "outputId": "ec367559-4364-42d9-ef3c-02eb0a8dbf48"
      },
      "outputs": [
        {
          "output_type": "stream",
          "name": "stdout",
          "text": [
            "-------------------------\n",
            "Andrea Resendez\n",
            "15.0\n",
            "85.0\n",
            "-------------------------\n",
            "Jesus Herrera\n",
            "15.0\n",
            "100.0\n",
            "-------------------------\n",
            "Katia Resendez\n",
            "2.0\n",
            "92.0\n"
          ]
        }
      ],
      "source": [
        "# Tengo una clase llamda Alumnos, esta almancena 3 atributos: Nombre, Calificación de Exámen y Ponderación.\n",
        "# Tiene también un método constructor en el cual se proporcionan los atributos mencionados.\n",
        "# La clase tiene 2 propiedades:\n",
        "# 1. Obtenidos: Que dice cuales fueron los puntos obtenidos de la calificación final dependiendo la calificación del exámen y la ponderación que se le asignó.\n",
        "# 2. Max_Calif_Posible: En base a la ponderación y los puntos \"perdidos o faltantes\" muestra cuál sería la calificación máxima que se puede obtener.\n",
        "# Finalmente, el método \"Mostar_Info\" le mostrará al usuario el Nombre del alumno, los puntos obtenidos y la calificación máxima posible.\n",
        "\n",
        "#Se crea la clase Alumnos\n",
        "class Alumnos():\n",
        "    # Se establecen los 3 atributos (Nombre, Calif_Examen y Ponderación)\n",
        "    Nombre=\"\"\n",
        "    Calif_Examen=0.0\n",
        "    Ponderacion=0\n",
        "\n",
        "    # Se agrega el método constructor al cual se le proporcionarán los datos\n",
        "    def __init__(self, Nombre, Calif_Examen, Ponderacion):\n",
        "      self.Nombre=Nombre\n",
        "      self.Calif_Examen=Calif_Examen\n",
        "      self.Ponderacion=Ponderacion\n",
        "\n",
        "    # En la primer propiedad de \"Obtenidos\", podemos ver como se obtienen los puntos del alumno.\n",
        "    # Se considera que la calificación final siempre es en base a 100.\n",
        "    @property\n",
        "    def Obtenidos(self):\n",
        "      return ((self.Calif_Examen*self.Ponderacion)/100)\n",
        "\n",
        "    # En la segunda propiedad de \"Max_Calif_Posible\", podemos ver como se obtienen los puntos perdidos o faltantes y se restan al 100.\n",
        "    @property\n",
        "    def Max_Calif_Posible(self):\n",
        "      Faltantes = self.Ponderacion-self.Obtenidos\n",
        "      return (100 - Faltantes)\n",
        "\n",
        "    # Con el método mostramos los resultados.\n",
        "    def Mostrar_Info(self):\n",
        "      print(\"-\"*25)\n",
        "      print(self.Nombre)\n",
        "      print(self.Obtenidos)\n",
        "      print(self.Max_Calif_Posible)\n",
        "\n",
        "# En esta parte genero las instanciaciones de la clase, asignando valores diferentes a cada atributo\n",
        "Alumno1 = Alumnos(\"Andrea Resendez\", 50, 30)\n",
        "Alumno2 = Alumnos(\"Jesus Herrera\", 100, 15)\n",
        "Alumno3 = Alumnos(\"Katia Resendez\", 20, 10)\n",
        "\n",
        "Alumno1.Mostrar_Info()\n",
        "Alumno2.Mostrar_Info()\n",
        "Alumno3.Mostrar_Info()\n",
        "\n"
      ]
    },
    {
      "cell_type": "code",
      "source": [],
      "metadata": {
        "id": "JLwPusWZiEZE"
      },
      "execution_count": null,
      "outputs": []
    }
  ]
}