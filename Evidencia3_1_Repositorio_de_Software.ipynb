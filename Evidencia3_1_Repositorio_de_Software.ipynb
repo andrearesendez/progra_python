{
  "nbformat": 4,
  "nbformat_minor": 0,
  "metadata": {
    "colab": {
      "provenance": [],
      "authorship_tag": "ABX9TyPvu/2wr2LgpQCwCPfST2xP",
      "include_colab_link": true
    },
    "kernelspec": {
      "name": "python3",
      "display_name": "Python 3"
    },
    "language_info": {
      "name": "python"
    }
  },
  "cells": [
    {
      "cell_type": "markdown",
      "metadata": {
        "id": "view-in-github",
        "colab_type": "text"
      },
      "source": [
        "<a href=\"https://colab.research.google.com/github/andrearesendez/progra_python/blob/main/Evidencia3_1_Repositorio_de_Software.ipynb\" target=\"_parent\"><img src=\"https://colab.research.google.com/assets/colab-badge.svg\" alt=\"Open In Colab\"/></a>"
      ]
    },
    {
      "cell_type": "markdown",
      "source": [
        "## **Elaborar un programa que haga lo siguiente:**\n",
        "1. Serialice a pickle un objeto\n",
        "2. Lo almacene en un archivo binario de expresión pickle\n",
        "3. Debe ser posible la recuperación del archivo\n",
        "4. El archivo debe de poder deserializarse y obtener el objeto original"
      ],
      "metadata": {
        "id": "rNJlm5vAtccJ"
      }
    },
    {
      "cell_type": "code",
      "execution_count": 10,
      "metadata": {
        "colab": {
          "base_uri": "https://localhost:8080/"
        },
        "id": "iHiqQH9wtYMF",
        "outputId": "ed4eb1ad-038b-4079-a92a-a677f88ec9de"
      },
      "outputs": [
        {
          "output_type": "stream",
          "name": "stdout",
          "text": [
            "[(['a.resendezv@outlook.com', 'Andrea'], ['j.antonioherrera@outlook.com', 'Jesus'])]\n",
            "[(['a.resendezv@outlook.com', 'Andrea'], ['j.antonioherrera@outlook.com', 'Jesus'])]\n"
          ]
        }
      ],
      "source": [
        "# Importamos pickle para tener acceso a las herramientas para su manejo\n",
        "# Importamos os para poder trabajar con archivos\n",
        "import os\n",
        "import pickle\n",
        "\n",
        "# Creamos el objeto y sus correspondientes datos\n",
        "lista_contactos = []\n",
        "lista_datos = ['a.resendezv@outlook.com','Andrea'], ['j.antonioherrera@outlook.com', 'Jesus']\n",
        "lista_contactos.append(lista_datos)\n",
        "\n",
        "# Usamos with para mantener el archivo abierto mientras sea necesario\n",
        "# Usamos el modo de archivo Write Binary Extended\n",
        "with open(\"Entradas.pickle\", \"wb+\") as f:\n",
        "  pickle.dump(lista_contactos, f)\n",
        "\n",
        "# Recuperamos el archivo Entradas.pickle y lo asignamos de nuevo a una lista\n",
        "# Usamos el modo de archivo Read Binary\n",
        "with open(\"Entradas.pickle\", \"rb\") as f:\n",
        "  lista_recupereada = pickle.load(f)\n",
        "\n",
        "  print(lista_contactos)\n",
        "  print(lista_recupereada)\n",
        "\n"
      ]
    }
  ]
}